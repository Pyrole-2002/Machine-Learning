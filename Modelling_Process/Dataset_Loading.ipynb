{
 "cells": [
  {
   "cell_type": "markdown",
   "source": [
    "# Dataset Loading\n",
    "\n",
    "**Features:** The variables of data are called its features. Also called predictors, inputs or attributes.\n",
    "\n",
    "**Feature Matrix:** Collection of features if there is more than one.\n",
    "\n",
    "**Feature Names:** List of all feature names.\n",
    "\n",
    "\n",
    "**Response:** The output variable that depends on the feature variables. Also known as target, label or output.\n",
    "\n",
    "**Response Vector:** Used to represent response column. Generally, we have just one response column.\n",
    "\n",
    "**Target Names:** Represents the possible values taken by a response vector."
   ],
   "metadata": {
    "collapsed": false
   },
   "id": "b396cfc36f9044d"
  },
  {
   "cell_type": "code",
   "execution_count": null,
   "id": "initial_id",
   "metadata": {
    "collapsed": true
   },
   "outputs": [],
   "source": [
    "from sklearn.datasets import load_iris"
   ]
  }
 ],
 "metadata": {
  "kernelspec": {
   "display_name": "Python 3",
   "language": "python",
   "name": "python3"
  },
  "language_info": {
   "codemirror_mode": {
    "name": "ipython",
    "version": 2
   },
   "file_extension": ".py",
   "mimetype": "text/x-python",
   "name": "python",
   "nbconvert_exporter": "python",
   "pygments_lexer": "ipython2",
   "version": "2.7.6"
  }
 },
 "nbformat": 4,
 "nbformat_minor": 5
}
